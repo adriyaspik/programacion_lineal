{
 "cells": [
  {
   "cell_type": "markdown",
   "metadata": {},
   "source": [
    "### Pregunta 1."
   ]
  },
  {
   "cell_type": "code",
   "execution_count": 7,
   "metadata": {},
   "outputs": [
    {
     "data": {
      "text/plain": [
       "<matplotlib.legend.Legend at 0x7f13a8db3b50>"
      ]
     },
     "execution_count": 7,
     "metadata": {},
     "output_type": "execute_result"
    },
    {
     "data": {
      "image/png": "[encoded data removed]",
      "text/plain": [
       "<matplotlib.figure.Figure at 0x7f13a8e34f10>"
      ]
     },
     "metadata": {
      "needs_background": "light"
     },
     "output_type": "display_data"
    }
   ],
   "source": [
    "import numpy as np\n",
    "import matplotlib.pyplot as plt\n",
    "%matplotlib inline\n",
    "\n",
    "# Construct lines\n",
    "# x > 0\n",
    "x = np.linspace(0, 20, 2000)\n",
    "# y >= 2\n",
    "y1 = (x*0) + 2\n",
    "# 2y <= 25 - x\n",
    "y2 = (25-x)/2.0\n",
    "# 4y >= 2x - 8 \n",
    "y3 = (2*x-8)/4.0\n",
    "# y <= 2x - 5 \n",
    "y4 = 2 * x -5\n",
    "\n",
    "# Make plot\n",
    "plt.plot(x, y1, label=r'$y\\geq2$')\n",
    "plt.plot(x, y2, label=r'$2y\\leq25-x$')\n",
    "plt.plot(x, y3, label=r'$4y\\geq 2x - 8$')\n",
    "plt.plot(x, y4, label=r'$y\\leq 2x-5$')\n",
    "plt.xlim((0, 16))\n",
    "plt.ylim((0, 11))\n",
    "plt.xlabel(r'$x$')\n",
    "plt.ylabel(r'$y$')\n",
    "\n",
    "# Fill feasible region\n",
    "y5 = np.minimum(y2, y4)\n",
    "y6 = np.maximum(y1, y3)\n",
    "plt.fill_between(x, y5, y6, where=y5>y6, color='grey', alpha=0.5)\n",
    "plt.legend(bbox_to_anchor=(1.05, 1), loc=2, borderaxespad=0.)"
   ]
  },
  {
   "cell_type": "markdown",
   "metadata": {},
   "source": [
    "\n",
    "Resuelve el siguiente problema (cualquier método): \n",
    "    \\begin{equation*} \n",
    "    \\begin{aligned}\n",
    "    \\text{Maximizar} \\quad & x+2y\\\\ \n",
    "    \\text{sujeto a} \\quad & \n",
    "    \\begin{aligned} \n",
    "    x &\\geq 0\\\\ \n",
    "    y &\\geq 0\\\\ \n",
    "    2x+y &\\leq 2 \n",
    "    \\end{aligned} \n",
    "    \\end{aligned} \n",
    "    \\end{equation*}\n"
   ]
  },
  {
   "cell_type": "code",
   "execution_count": 3,
   "metadata": {},
   "outputs": [
    {
     "ename": "ImportError",
     "evalue": "No module named pulp",
     "output_type": "error",
     "traceback": [
      "\u001b[0;31m---------------------------------------------------------------------------\u001b[0m",
      "\u001b[0;31mImportError\u001b[0m                               Traceback (most recent call last)",
      "\u001b[0;32m<ipython-input-3-a104ac3a1a75>\u001b[0m in \u001b[0;36m<module>\u001b[0;34m()\u001b[0m\n\u001b[0;32m----> 1\u001b[0;31m \u001b[0;32mfrom\u001b[0m \u001b[0mpulp\u001b[0m \u001b[0;32mimport\u001b[0m \u001b[0;34m*\u001b[0m\u001b[0;34m\u001b[0m\u001b[0m\n\u001b[0m\u001b[1;32m      2\u001b[0m \u001b[0mx\u001b[0m \u001b[0;34m=\u001b[0m \u001b[0mLpVariable\u001b[0m\u001b[0;34m(\u001b[0m\u001b[0;34m\"x\"\u001b[0m\u001b[0;34m,\u001b[0m \u001b[0;36m0\u001b[0m\u001b[0;34m)\u001b[0m\u001b[0;34m\u001b[0m\u001b[0m\n\u001b[1;32m      3\u001b[0m \u001b[0my\u001b[0m \u001b[0;34m=\u001b[0m \u001b[0mLpVariable\u001b[0m\u001b[0;34m(\u001b[0m\u001b[0;34m\"y\"\u001b[0m\u001b[0;34m,\u001b[0m \u001b[0;36m0\u001b[0m\u001b[0;34m)\u001b[0m\u001b[0;34m\u001b[0m\u001b[0m\n",
      "\u001b[0;31mImportError\u001b[0m: No module named pulp"
     ]
    }
   ],
   "source": [
    "from pulp import *\n",
    "x = LpVariable(\"x\", 0)\n",
    "y = LpVariable(\"y\", 0)"
   ]
  },
  {
   "cell_type": "code",
   "execution_count": 8,
   "metadata": {},
   "outputs": [
    {
     "ename": "NameError",
     "evalue": "name 'LpProblem' is not defined",
     "output_type": "error",
     "traceback": [
      "\u001b[0;31m---------------------------------------------------------------------------\u001b[0m",
      "\u001b[0;31mNameError\u001b[0m                                 Traceback (most recent call last)",
      "\u001b[0;32m<ipython-input-8-a8fce2b4621f>\u001b[0m in \u001b[0;36m<module>\u001b[0;34m()\u001b[0m\n\u001b[0;32m----> 1\u001b[0;31m \u001b[0mprob\u001b[0m \u001b[0;34m=\u001b[0m \u001b[0mLpProblem\u001b[0m\u001b[0;34m(\u001b[0m\u001b[0;34m\"Pregunta 1\"\u001b[0m\u001b[0;34m,\u001b[0m \u001b[0mLpMaximize\u001b[0m\u001b[0;34m)\u001b[0m\u001b[0;34m\u001b[0m\u001b[0m\n\u001b[0m\u001b[1;32m      2\u001b[0m \u001b[0mprob\u001b[0m \u001b[0;34m+=\u001b[0m \u001b[0;36m2\u001b[0m\u001b[0;34m*\u001b[0m\u001b[0mx\u001b[0m \u001b[0;34m+\u001b[0m \u001b[0my\u001b[0m \u001b[0;34m<=\u001b[0m \u001b[0;36m2\u001b[0m\u001b[0;34m\u001b[0m\u001b[0m\n",
      "\u001b[0;31mNameError\u001b[0m: name 'LpProblem' is not defined"
     ]
    }
   ],
   "source": [
    "prob = LpProblem(\"Pregunta 1\", LpMaximize)\n",
    "prob += 2*x + y <= 2"
   ]
  },
  {
   "cell_type": "code",
   "execution_count": null,
   "metadata": {},
   "outputs": [],
   "source": []
  }
 ],
 "metadata": {
  "kernelspec": {
   "display_name": "Python 2",
   "language": "python",
   "name": "python2"
  },
  "language_info": {
   "codemirror_mode": {
    "name": "ipython",
    "version": 2
   },
   "file_extension": ".py",
   "mimetype": "text/x-python",
   "name": "python",
   "nbconvert_exporter": "python",
   "pygments_lexer": "ipython2",
   "version": "2.7.15rc1"
  }
 },
 "nbformat": 4,
 "nbformat_minor": 2
}
