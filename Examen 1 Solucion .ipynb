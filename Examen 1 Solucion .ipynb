{
 "cells": [
  {
   "cell_type": "code",
   "execution_count": 35,
   "metadata": {},
   "outputs": [
    {
     "data": {
      "text/plain": [
       "<matplotlib.collections.PolyCollection at 0x7f64578a3278>"
      ]
     },
     "execution_count": 35,
     "metadata": {},
     "output_type": "execute_result"
    },
    {
     "data": {
      "image/png": "[encoded data removed]",
      "text/plain": [
       "<Figure size 432x288 with 1 Axes>"
      ]
     },
     "metadata": {
      "needs_background": "light"
     },
     "output_type": "display_data"
    }
   ],
   "source": [
    "import numpy as np\n",
    "import matplotlib.pyplot as plt\n",
    "%matplotlib inline\n",
    "\n",
    "\n",
    "x = np.linspace(0, 1, 200)\n",
    "y1 = 2-2*x \n",
    "plt.plot(x, y1, label= 'Condición 1')\n",
    "plt.fill_between(y1, x, y, where=y>0, color='grey', alpha=0.5)"
   ]
  },
  {
   "cell_type": "markdown",
   "metadata": {},
   "source": [
    "# Pregunta 1\n",
    "\n",
    "Resuelve el siguiente problema (cualquier método):\n",
    "   \\begin{equation*}\n",
    "   \\begin{aligned}\n",
    "   \\text{Maximizar} \\quad & x+2y\\\\\n",
    "   \\text{sujeto a} \\quad &\n",
    "     \\begin{aligned}\n",
    "      x &\\geq  0\\\\\n",
    "      y &\\geq 0\\\\\n",
    "      2x+y &\\leq 2\n",
    "     \\end{aligned}\n",
    "   \\end{aligned}\n",
    "   \\end{equation*}"
   ]
  },
  {
   "cell_type": "code",
   "execution_count": 4,
   "metadata": {},
   "outputs": [],
   "source": [
    "from pulp import *\n",
    "x = LpVariable(\"x\", 0)\n",
    "y = LpVariable(\"y\", 0)"
   ]
  },
  {
   "cell_type": "code",
   "execution_count": 6,
   "metadata": {},
   "outputs": [],
   "source": [
    "prob = LpProblem(\"Pregunta 1\", LpMaximize)\n",
    "prob += 2*x + y <= 2"
   ]
  },
  {
   "cell_type": "code",
   "execution_count": 7,
   "metadata": {},
   "outputs": [],
   "source": [
    "prob += x + 2*y"
   ]
  },
  {
   "cell_type": "code",
   "execution_count": 8,
   "metadata": {},
   "outputs": [
    {
     "data": {
      "text/plain": [
       "Pregunta 1:\n",
       "MAXIMIZE\n",
       "1*x + 2*y + 0\n",
       "SUBJECT TO\n",
       "_C1: 2 x + y <= 2\n",
       "\n",
       "VARIABLES\n",
       "x Continuous\n",
       "y Continuous"
      ]
     },
     "execution_count": 8,
     "metadata": {},
     "output_type": "execute_result"
    }
   ],
   "source": [
    "prob"
   ]
  },
  {
   "cell_type": "code",
   "execution_count": 10,
   "metadata": {},
   "outputs": [
    {
     "data": {
      "text/plain": [
       "(0.0, 2.0, 4.0)"
      ]
     },
     "execution_count": 10,
     "metadata": {},
     "output_type": "execute_result"
    }
   ],
   "source": [
    "status = prob.solve()\n",
    "value(x), value(y), value(prob.objective)"
   ]
  },
  {
   "cell_type": "markdown",
   "metadata": {},
   "source": [
    "# Pregunta 2\n",
    "Resuelve el siguiente problema (cualquier método):\n",
    "   \\begin{equation*}\n",
    "    \\begin{aligned}\n",
    "   \\text{Maximizar} \\quad & x_{1}+2x_{2}\\\\\n",
    "   \\text{sujeto a} \\quad &\n",
    "     \\begin{aligned}\n",
    "      3x_{1}+4x_{2} &\\leq 12\\\\\n",
    "      x_{1}-x_{2} &\\leq 2\\\\\n",
    "      -2x_{1}+x_{2} &\\leq 2\\\\\n",
    "       x_{1} &\\geq 0\\\\\n",
    "       x_{2} &\\geq 0\n",
    "     \\end{aligned}\n",
    "   \\end{aligned}\n",
    "   \\end{equation*}"
   ]
  },
  {
   "cell_type": "code",
   "execution_count": 12,
   "metadata": {},
   "outputs": [],
   "source": [
    "x1 = LpVariable(\"x1\", 0)\n",
    "x2 = LpVariable(\"x2\", 0)"
   ]
  },
  {
   "cell_type": "code",
   "execution_count": 13,
   "metadata": {},
   "outputs": [],
   "source": [
    "prob = LpProblem(\"Pregunta 2\", LpMaximize)\n",
    "prob += 3*x1 + 4*x2 <= 12\n",
    "prob += x1 - x2<= 2\n",
    "prob += -2*x1 + x2 <=2"
   ]
  },
  {
   "cell_type": "code",
   "execution_count": 14,
   "metadata": {},
   "outputs": [],
   "source": [
    "prob += x1 + 2*x2"
   ]
  },
  {
   "cell_type": "code",
   "execution_count": 15,
   "metadata": {},
   "outputs": [
    {
     "data": {
      "text/plain": [
       "Pregunta 2:\n",
       "MAXIMIZE\n",
       "1*x1 + 2*x2 + 0\n",
       "SUBJECT TO\n",
       "_C1: 3 x1 + 4 x2 <= 12\n",
       "\n",
       "_C2: x1 - x2 <= 2\n",
       "\n",
       "_C3: - 2 x1 + x2 <= 2\n",
       "\n",
       "VARIABLES\n",
       "x1 Continuous\n",
       "x2 Continuous"
      ]
     },
     "execution_count": 15,
     "metadata": {},
     "output_type": "execute_result"
    }
   ],
   "source": [
    "prob"
   ]
  },
  {
   "cell_type": "code",
   "execution_count": 16,
   "metadata": {},
   "outputs": [
    {
     "data": {
      "text/plain": [
       "(0.36363636, 2.7272727, 5.81818176)"
      ]
     },
     "execution_count": 16,
     "metadata": {},
     "output_type": "execute_result"
    }
   ],
   "source": [
    "status = prob.solve()\n",
    "value(x1), value(x2), value(prob.objective)"
   ]
  },
  {
   "cell_type": "markdown",
   "metadata": {},
   "source": [
    "# Pregunta 3\n",
    "Resuelve el siguiente problema (cualquier método):\n",
    "   \\begin{equation*}\n",
    "   \\begin{aligned}\n",
    "   \\text{Maximizar} \\quad & 4x_{1}+x_{2}+3x_{3}\\\\\n",
    "   \\text{sujeto a} \\quad &\n",
    "     \\begin{aligned}\n",
    "      x_{1} & \\leq 3\\\\\n",
    "      x_{2} &\\leq 5\\\\\n",
    "      x_{3} &\\leq 2\\\\\n",
    "      x_{1}+x_{2}+2x_{3} &\\leq 10\\\\\n",
    "      x_{1},x_{2},x_{3} &\\geq 0\n",
    "     \\end{aligned}\n",
    "   \\end{aligned}\n",
    "   \\end{equation*}"
   ]
  },
  {
   "cell_type": "code",
   "execution_count": 18,
   "metadata": {},
   "outputs": [],
   "source": [
    "x1 = LpVariable(\"x1\", 0)\n",
    "x2 = LpVariable(\"x2\", 0)\n",
    "x3 = LpVariable(\"x3\", 0) "
   ]
  },
  {
   "cell_type": "code",
   "execution_count": 19,
   "metadata": {},
   "outputs": [],
   "source": [
    "prob = LpProblem(\"Pregunta 3\", LpMaximize)\n",
    "prob += x1 <= 3\n",
    "prob += x2 <= 5\n",
    "prob += x3 <= 2\n",
    "prob += x1 + x2+ 2*x3 <= 10"
   ]
  },
  {
   "cell_type": "code",
   "execution_count": 20,
   "metadata": {},
   "outputs": [],
   "source": [
    "prob += 4*x1 + x2 + 2*x3"
   ]
  },
  {
   "cell_type": "code",
   "execution_count": 21,
   "metadata": {},
   "outputs": [
    {
     "data": {
      "text/plain": [
       "Pregunta 3:\n",
       "MAXIMIZE\n",
       "4*x1 + 1*x2 + 2*x3 + 0\n",
       "SUBJECT TO\n",
       "_C1: x1 <= 3\n",
       "\n",
       "_C2: x2 <= 5\n",
       "\n",
       "_C3: x3 <= 2\n",
       "\n",
       "_C4: x1 + x2 + 2 x3 <= 10\n",
       "\n",
       "VARIABLES\n",
       "x1 Continuous\n",
       "x2 Continuous\n",
       "x3 Continuous"
      ]
     },
     "execution_count": 21,
     "metadata": {},
     "output_type": "execute_result"
    }
   ],
   "source": [
    "probhttp://benalexkeen.com/linear-programming-with-python-and-pulp-part-1/"
   ]
  },
  {
   "cell_type": "code",
   "execution_count": 22,
   "metadata": {},
   "outputs": [
    {
     "data": {
      "text/plain": [
       "(3.0, 5.0, 1.0, 19.0)"
      ]
     },
     "execution_count": 22,
     "metadata": {},
     "output_type": "execute_result"
    }
   ],
   "source": [
    "status = prob.solve()\n",
    "value(x1), value(x2), value(x3), value(prob.objective)"
   ]
  },
  {
   "cell_type": "markdown",
   "metadata": {},
   "source": [
    "# Pregunta 4\n",
    "\n",
    "Un gerente está planeando cómo distribuir la producción de tres\n",
    "   productos entre dos máquinas. Para ser manufacturado cada producto\n",
    "   requiere cierto tiempo (en horas) en cada una de las máquinas.\n",
    "\n",
    "   El tiempo requerido está resumido en la siguiente tabla:\n",
    "   \n",
    "|  Producto/Máquina     | 1    | 2   |\n",
    "|:---------------------:|:----:|:---:|\n",
    "| A                     | 1    | 1   |\n",
    "| B                     | 2    | 1   |\n",
    "| C                     | 2    | 2   |\n",
    "\n",
    "La máquina 1 está disponible 40 horas a la semana y la 2 está\n",
    "disponible 34 horas a la semana.\n"
   ]
  },
  {
   "cell_type": "code",
   "execution_count": 23,
   "metadata": {},
   "outputs": [],
   "source": [
    "x1 = LpVariable(\"x1\", 0)\n",
    "x2 = LpVariable(\"x2\", 0)\n",
    "x3 = LpVariable(\"x3\", 0) "
   ]
  },
  {
   "cell_type": "code",
   "execution_count": 24,
   "metadata": {},
   "outputs": [],
   "source": [
    "prob = LpProblem(\"Pregunta 4\", LpMaximize)\n",
    "prob += x1 + 2*x2 + 2*x3 <= 40\n",
    "prob += x1 + x2 + 2*x3  <= 34"
   ]
  },
  {
   "cell_type": "code",
   "execution_count": 25,
   "metadata": {},
   "outputs": [],
   "source": [
    "prob += 2*x1 + 3*x2 + 5*x3"
   ]
  },
  {
   "cell_type": "code",
   "execution_count": 26,
   "metadata": {},
   "outputs": [
    {
     "data": {
      "text/plain": [
       "Pregunta 4:\n",
       "MAXIMIZE\n",
       "2*x1 + 3*x2 + 5*x3 + 0\n",
       "SUBJECT TO\n",
       "_C1: x1 + 2 x2 + 2 x3 <= 40\n",
       "\n",
       "_C2: x1 + x2 + 2 x3 <= 34\n",
       "\n",
       "VARIABLES\n",
       "x1 Continuous\n",
       "x2 Continuous\n",
       "x3 Continuous"
      ]
     },
     "execution_count": 26,
     "metadata": {},
     "output_type": "execute_result"
    }
   ],
   "source": [
    "prob"
   ]
  },
  {
   "cell_type": "code",
   "execution_count": 27,
   "metadata": {},
   "outputs": [
    {
     "data": {
      "text/plain": [
       "(0.0, 6.0, 14.0, 88.0)"
      ]
     },
     "execution_count": 27,
     "metadata": {},
     "output_type": "execute_result"
    }
   ],
   "source": [
    "status = prob.solve()\n",
    "value(x1), value(x2), value(x3), value(prob.objective)"
   ]
  },
  {
   "cell_type": "markdown",
   "metadata": {},
   "source": [
    "\n"
   ]
  }
 ],
 "metadata": {
  "kernelspec": {
   "display_name": "Python 2",
   "language": "python",
   "name": "python2"
  },
  "language_info": {
   "codemirror_mode": {
    "name": "ipython",
    "version": 2
   },
   "file_extension": ".py",
   "mimetype": "text/x-python",
   "name": "python",
   "nbconvert_exporter": "python",
   "pygments_lexer": "ipython2",
   "version": "2.7.15rc1"
  }
 },
 "nbformat": 4,
 "nbformat_minor": 2
}
